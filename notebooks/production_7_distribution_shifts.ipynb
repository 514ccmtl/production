{
 "cells": [
  {
   "cell_type": "markdown",
   "metadata": {},
   "source": [
    "# Distribution Shifts\n",
    "\n",
    "+ Consider our stock data. \n",
    "+ We are interested in testing changes in return distribution for our sample data around the time of the onset of the COVID 19 pandemic."
   ]
  },
  {
   "cell_type": "code",
   "execution_count": 1,
   "metadata": {},
   "outputs": [],
   "source": [
    "%load_ext dotenv\n",
    "%dotenv ../src/.env\n",
    "import sys\n",
    "sys.path.append(\"../src\")\n",
    "from logger import get_logger\n",
    "_logs = get_logger(__name__)"
   ]
  },
  {
   "cell_type": "code",
   "execution_count": 2,
   "metadata": {},
   "outputs": [],
   "source": [
    "import dask\n",
    "dask.config.set({'dataframe.query-planning': True})\n",
    "import dask.dataframe as dd\n",
    "import pandas as pd\n",
    "import numpy as np\n",
    "import os\n",
    "from glob import glob"
   ]
  },
  {
   "cell_type": "code",
   "execution_count": 4,
   "metadata": {},
   "outputs": [],
   "source": [
    "ft_dir = os.getenv(\"FEATURES_DATA\")\n",
    "ft_glob = glob(ft_dir+'/*.parquet')\n",
    "df = dd.read_parquet(ft_glob).compute().reset_index()"
   ]
  },
  {
   "cell_type": "markdown",
   "metadata": {},
   "source": [
    "## Data Preparation\n",
    "\n",
    "+ First, prepare four datasets, each with returns between March of a given year and March of the following year.\n",
    "+ For each data set, we can compute some descriptive statistics.\n",
    "+ We observe that there may be some distribution changes."
   ]
  },
  {
   "cell_type": "code",
   "execution_count": 26,
   "metadata": {},
   "outputs": [],
   "source": [
    "df_2018 = df[(df['Date'] >= '2018-03-01') & (df['Date']  < '2019-03-01')]\n",
    "df_2019 = df[(df['Date'] >= '2019-03-01') & (df['Date']  < '2020-03-01')]\n",
    "df_2020 = df[(df['Date'] >= '2020-03-01') & (df['Date']  < '2021-03-01')]\n",
    "df_2021 = df[(df['Date'] >= '2021-03-01') & (df['Date']  < '2022-03-01')]\n",
    "df_2022 = df[(df['Date'] >= '2022-03-01') & (df['Date']  < '2023-03-01')]"
   ]
  },
  {
   "cell_type": "code",
   "execution_count": 18,
   "metadata": {},
   "outputs": [
    {
     "data": {
      "text/plain": [
       "count    122487.000000\n",
       "mean          0.008255\n",
       "std           0.322370\n",
       "min          -0.973106\n",
       "25%          -0.007951\n",
       "50%           0.000911\n",
       "75%           0.009274\n",
       "max          50.656051\n",
       "Name: returns, dtype: float64"
      ]
     },
     "execution_count": 18,
     "metadata": {},
     "output_type": "execute_result"
    }
   ],
   "source": [
    "df_2018['returns'].describe()"
   ]
  },
  {
   "cell_type": "code",
   "execution_count": 20,
   "metadata": {},
   "outputs": [
    {
     "data": {
      "text/plain": [
       "count    124327.000000\n",
       "mean          0.008617\n",
       "std           0.282145\n",
       "min          -0.892941\n",
       "25%          -0.007526\n",
       "50%           0.001031\n",
       "75%           0.008961\n",
       "max          40.907243\n",
       "Name: returns, dtype: float64"
      ]
     },
     "execution_count": 20,
     "metadata": {},
     "output_type": "execute_result"
    }
   ],
   "source": [
    "df_2019['returns'].describe()"
   ]
  },
  {
   "cell_type": "code",
   "execution_count": 21,
   "metadata": {},
   "outputs": [
    {
     "data": {
      "text/plain": [
       "count    124509.000000\n",
       "mean          0.010303\n",
       "std           0.475536\n",
       "min          -0.876122\n",
       "25%          -0.012946\n",
       "50%           0.001299\n",
       "75%           0.016166\n",
       "max         136.020301\n",
       "Name: returns, dtype: float64"
      ]
     },
     "execution_count": 21,
     "metadata": {},
     "output_type": "execute_result"
    }
   ],
   "source": [
    "df_2020['returns'].describe()"
   ]
  },
  {
   "cell_type": "code",
   "execution_count": 22,
   "metadata": {},
   "outputs": [
    {
     "data": {
      "text/plain": [
       "count    125752.000000\n",
       "mean          0.013406\n",
       "std           0.709492\n",
       "min          -0.690219\n",
       "25%          -0.008819\n",
       "50%           0.000742\n",
       "75%           0.010318\n",
       "max         209.045513\n",
       "Name: returns, dtype: float64"
      ]
     },
     "execution_count": 22,
     "metadata": {},
     "output_type": "execute_result"
    }
   ],
   "source": [
    "df_2021['returns'].describe()"
   ]
  },
  {
   "cell_type": "code",
   "execution_count": 28,
   "metadata": {},
   "outputs": [
    {
     "data": {
      "text/plain": [
       "count    125018.000000\n",
       "mean          0.009317\n",
       "std           0.338328\n",
       "min          -0.846907\n",
       "25%          -0.012281\n",
       "50%           0.000163\n",
       "75%           0.012641\n",
       "max          68.399998\n",
       "Name: returns, dtype: float64"
      ]
     },
     "execution_count": 28,
     "metadata": {},
     "output_type": "execute_result"
    }
   ],
   "source": [
    "df_2022['returns'].describe()"
   ]
  },
  {
   "cell_type": "markdown",
   "metadata": {},
   "source": [
    "# Komogorov-Smirnov Test\n",
    "\n",
    "+ The KS test can be accessed via the scipy library: `scipy.stats.kstest`\n",
    "+ This function can be used to perform two sample tests.\n",
    "+ The null hypothesis is that the two distributions are identical."
   ]
  },
  {
   "cell_type": "code",
   "execution_count": 23,
   "metadata": {},
   "outputs": [
    {
     "data": {
      "text/plain": [
       "KstestResult(statistic=0.011831758881548748, pvalue=6.237843774936075e-08, statistic_location=0.017902198410837622, statistic_sign=-1)"
      ]
     },
     "execution_count": 23,
     "metadata": {},
     "output_type": "execute_result"
    }
   ],
   "source": [
    "from scipy.stats import kstest\n",
    "\n",
    "kstest(df_2018['returns'].dropna(), \n",
    "       df_2019['returns'].dropna())"
   ]
  },
  {
   "cell_type": "code",
   "execution_count": 24,
   "metadata": {},
   "outputs": [
    {
     "data": {
      "text/plain": [
       "KstestResult(statistic=0.13601382991582422, pvalue=0.0, statistic_location=0.017462597314621187, statistic_sign=1)"
      ]
     },
     "execution_count": 24,
     "metadata": {},
     "output_type": "execute_result"
    }
   ],
   "source": [
    "kstest(df_2019['returns'].dropna(), \n",
    "       df_2020['returns'].dropna())"
   ]
  },
  {
   "cell_type": "code",
   "execution_count": 25,
   "metadata": {},
   "outputs": [
    {
     "data": {
      "text/plain": [
       "KstestResult(statistic=0.1004555916634241, pvalue=0.0, statistic_location=0.017596482114136558, statistic_sign=-1)"
      ]
     },
     "execution_count": 25,
     "metadata": {},
     "output_type": "execute_result"
    }
   ],
   "source": [
    "kstest(df_2020['returns'].dropna(), \n",
    "       df_2021['returns'].dropna())"
   ]
  },
  {
   "cell_type": "code",
   "execution_count": 27,
   "metadata": {},
   "outputs": [
    {
     "data": {
      "text/plain": [
       "KstestResult(statistic=0.06230430332505052, pvalue=5.26826597957707e-212, statistic_location=-0.011759943380979188, statistic_sign=-1)"
      ]
     },
     "execution_count": 27,
     "metadata": {},
     "output_type": "execute_result"
    }
   ],
   "source": [
    "kstest(df_2021['returns'].dropna(), \n",
    "       df_2022['returns'].dropna())"
   ]
  }
 ],
 "metadata": {
  "kernelspec": {
   "display_name": "env",
   "language": "python",
   "name": "python3"
  },
  "language_info": {
   "codemirror_mode": {
    "name": "ipython",
    "version": 3
   },
   "file_extension": ".py",
   "mimetype": "text/x-python",
   "name": "python",
   "nbconvert_exporter": "python",
   "pygments_lexer": "ipython3",
   "version": "3.11.0"
  }
 },
 "nbformat": 4,
 "nbformat_minor": 2
}
