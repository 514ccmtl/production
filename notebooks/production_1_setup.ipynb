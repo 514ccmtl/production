{
 "cells": [
  {
   "cell_type": "markdown",
   "metadata": {},
   "source": [
    "# Production 1: Setting Up A Repo"
   ]
  },
  {
   "cell_type": "markdown",
   "metadata": {},
   "source": [
    "## Introduction\n",
    "\n",
    "+ Working with code in production is hard. Rarely we will have a chance to work on a greenfield development and will get a chance to define all of its specifications.\n",
    "+ Sometimes, we may be offered the option of scraping a system and starting from scratch. This option should be considered carefully and, most of the time, rejected.\n",
    "+ Working with legacy code will be the norm:\n",
    "\n",
    "    - Legacy code includes our own code.\n",
    "    - Legacy code may have been written by colleagues with different approaches, philosophies, and skills.\n",
    "    - Legacy code may have been written for old technology.\n",
    "\n",
    "+ Most of the time, legacy code works and *this* is the reason we are working with it.\n",
    "\n",
    "## Software Entropy\n",
    "\n",
    "+ Software entroy is the natural evolution of code towards chaos.\n",
    "+ Messy code is a natural consequence of change:\n",
    "\n",
    "    - Requriements change.\n",
    "    - Technology change.\n",
    "    - Business processes change.\n",
    "    - People change.\n",
    "\n",
    "+ Software entropy can be managed. Some techniques include:\n",
    "\n",
    "    - Apply a code style.\n",
    "    - Reduce inconsistency.\n",
    "    - Continuous refactoring.\n",
    "    - Apply reasonable architectures.\n",
    "    - Apply design patterns.\n",
    "    - Testing and CI/CD.\n",
    "    - Documentation.\n",
    "\n",
    "+ *Technical debt* is future work that is owed to fix issues with the current codebase.\n",
    "+ Technical debt has principal and interest: complexity spreads and what was a simple *duct tape* solution becomes the source of complexity in downstream consumers.\n",
    "+ ML systems are complex: they involve many components and the interaction among those components determines the behaviour of the system. Adding additional complexity by using poor software development practices can be avoided.\n",
    "+ Building ML Systems is most of the time a team sport. Our tools should be designed for collaboration."
   ]
  },
  {
   "cell_type": "markdown",
   "metadata": {},
   "source": [
    "# A Reference Architecture"
   ]
  },
  {
   "cell_type": "markdown",
   "metadata": {},
   "source": [
    "## What are we building?\n",
    "\n",
    "+ [Agrawal and others](https://arxiv.org/abs/1909.00084) propose the reference architecture below.\n",
    "\n",
    "![Flock reference architecture (Agrawal etl al, 2019)](./img/flock_ref_arhitecture.png)\n",
    "\n",
    "+ Through the course, we will write the code in Python for the different components of this architecture. \n"
   ]
  },
  {
   "cell_type": "markdown",
   "metadata": {},
   "source": [
    "# Repo File Structure\n",
    "\n",
    "+ A simple standard file structure can go a long way in reducing entropy. Some frameworks will impose file structures, but generally the following pattern works well:\n",
    "\n",
    "```\n",
    "./\n",
    "./data/\n",
    "./env/\n",
    "./logs/\n",
    "./src/\n",
    "./tests/\n",
    "...\n",
    "./docs/\n",
    "./.gitignore\n",
    "./readme.md\n",
    "./requirements.txt\n",
    "...\n",
    "```\n",
    "\n",
    "+ A few notes on the file structure:\n",
    "\n",
    "    - `./data/` is a general data folder which is generally subdivided in a namespace. \n",
    "    \n",
    "        * This is an optional component and meant to hold development data or a small feature store.\n",
    "        * Include in `.gitignore`. \n",
    "\n",
    "    - `./env/` is the Python virtual environment. It is included in `.gitignore`.\n",
    "    - `./logs/` is the location of log files. It is included in `.gitignore`.\n",
    "    - `./src/` is the source folder. \n",
    "\n",
    "        * Contains most of the modules and module folders.\n",
    "        * It is the reference directory to all relative paths.\n",
    "\n",
    "    - `./src/.env` contains environment variable definitions. \n",
    "\n",
    "        * We will add settings to this file and read them throughout our setup.\n",
    "        * A single convenient location to maintain connection strings to DB, directory locations, and settings.\n",
    "    \n",
    "    - `./readme.md` a description of the project and general guidance on where to find information in the repo.\n",
    "    - `./requirements.txt` Python libraries that are required for this repo.\n",
    "    - `./.gitignore` includes all files that should be ignored in change control. \n",
    "\n",
    "+ The pattern lends itself to standard .gitignore files that include `./env/` "
   ]
  },
  {
   "cell_type": "markdown",
   "metadata": {},
   "source": [
    "# Source Control\n",
    "\n",
    "\n",
    "\n",
    "## Git and Github\n",
    "\n",
    "+ Git is a version control system that lets you manage and keep track of your source code history.\n",
    "+ If you have not done so, please get an account on [Github](https://github.com/) and setup SSH authentication:\n",
    "\n",
    "    - Check for [existing SSH keys](https://docs.github.com/en/authentication/connecting-to-github-with-ssh/checking-for-existing-ssh-keys).\n",
    "    - If needed, create an [SSH Key](https://docs.github.com/en/authentication/connecting-to-github-with-ssh/generating-a-new-ssh-key-and-adding-it-to-the-ssh-agent).\n",
    "    - [Add SSH key](https://docs.github.com/en/authentication/connecting-to-github-with-ssh/adding-a-new-ssh-key-to-your-github-account#adding-a-new-ssh-key-to-your-account) to your Github account.\n",
    "\n",
    "+ If you need a refresher of Git commands, a good reference is [Pro Git](https://git-scm.com/book/en/v2) (Chacon and Straub, 2014).\n",
    "\n",
    "## What do we include in a commit?\n",
    "\n",
    "* Generally, we will use Git to maintain data transformation and movement *code*.\n",
    "* It is good practice to not use Git to maintain data inputs or outputs of any kind. \n",
    "* Some exceptions include: settings, experimental notebooks used to document design choices. \n",
    "* Things to avoid putting in a repo: Personal Identity Information (PII), passwords and keys.\n",
    "\n",
    "## Version Control System Best Practices\n",
    "\n",
    "+ Commit early and commit often.\n",
    "+ Use meaningful commits:\n",
    "\n",
    "    - The drawback of commiting very frequently is that there will be incomplete commits, errors and stepbacks in the commit messages. Commit messages include: \"Committing before switching to another task\", \"Oops\", \"Undoing previous idea\", \"Fire alarm\", etc.\n",
    "    - In Pull Requests, squash commits and write meaningful messages. \n",
    "\n",
    "+ Apply a branch strategy.\n",
    "+ Submit clean pull requests: verify that latest branch is merged and review conflicts.\n",
    "\n",
    "## Commit Messages\n",
    "\n",
    "+ Clear commit messages help document your code and allow you to trace the reaoning behind design decisions. \n",
    "+ A few guidelines for writing commit messages:\n",
    "\n",
    "    - Use markdown: Github interprets commit messages as markdown.\n",
    "    - First line is a subject:\n",
    "\n",
    "        * No period at the end.\n",
    "        * Use uppercase as appropriate.\n",
    "    \n",
    "    - Write in imperative form in the subject line and whenever possible:\n",
    "\n",
    "        * Do:  \"Add connection to db\", \"Connect to db\"\n",
    "        * Do not:  \"This commit adds a connection to db\", \"Connection to db added\"\n",
    "\n",
    "    - The body of the message should explain why the change was made and not what was changed.\n",
    "\n",
    "        * Diff will show changes in the code, but not the reasoning behind it.\n",
    "\n",
    "    - Same rules apply for Pull Requests.\n",
    "\n",
    "+ Many of these points are taken from [How to Write a Git Commit Message](https://cbea.ms/git-commit/) by Chris Beams."
   ]
  },
  {
   "cell_type": "markdown",
   "metadata": {},
   "source": [
    "## VS Code and Git\n",
    "\n",
    "+ An Interactive Development Environment (IDE) is software to help you code. \n",
    "+ IDEs are, ultimately, a matter of personal taste, but there are advantages to using the popular solutions:\n",
    "\n",
    "    - Active development and bug fixes.\n",
    "    - Plugin and extension ecosystems.\n",
    "    - Active community for help, support, tutorials, etc.\n",
    "\n",
    "+ Avoid the *l33t coder* trap: *vim* and *emacs* may work for some, but *nano* and VS Code are great solutions too. \n",
    "+ VS Code integrates with Git. \n",
    "+ Reference: [Using Git source control in VS Code](https://code.visualstudio.com/docs/sourcecontrol/overview).\n",
    "+ A few tips:\n",
    "\n",
    "    - VS Code has a Git tab indicated with the icon: \n",
    "    ![](./img/source_control_icon.png)\n",
    "\n",
    "    - From the source control menu, one can easily stage files, commit, and push/pull to origin.\n",
    "\n",
    "    - Other commands can be accessed via the command pallete (`Ctrl + Shift + P`). For instance, one can select or create a new branch using the option *Git: Checkout to*."
   ]
  },
  {
   "cell_type": "markdown",
   "metadata": {},
   "source": [
    "# Python Virtual Environments\n",
    "\n",
    "+ There are many reasons to control our development environment, including version numbers for Python and all the libraries that we are using:\n",
    "\n",
    "    - Reproducibility: we want to be able to reproduce our process in a production environment with as little change as possible. \n",
    "    - Backup and archiving: saving our work in a way that can be used in the future, despite Python and libraries evolving.\n",
    "    - Collaboration: work with colleagues on different portions of the code involves everyone having a standard platform to run the codebase.\n",
    "\n",
    "+ We can achieve the objectives above in many ways, including vritualizing our environments, packaging our code in containers, and using virtual machines, among others.\n",
    "+ Most of the time, creating a virtual environment will be part of the initial development setup. This vritual environment will help us *freeze* the python version and some version libraries. "
   ]
  },
  {
   "cell_type": "markdown",
   "metadata": {},
   "source": [
    "## Setting up the environment\n",
    "\n",
    "+ The simplest way to add a new virtual environment is to use the command: `python -m venv env`.\n",
    "+ This command will start a new virtual environment in the subfolder `./env`.\n",
    "+ To *activate* this environment use `./env/Scripts/Activate.ps` (windows).\n",
    "+ Optionally, consider the Python add-on for VS Code that activates the environment automatically for you."
   ]
  },
  {
   "cell_type": "markdown",
   "metadata": {},
   "source": [
    "# Setup a Logger\n",
    "\n",
    "+ We will use Python's logging module and will provision our standard loggers through our first module.\n",
    "+ The module is located in `./src/logger.py`.\n",
    "+ Our notebooks will need to add `../src/` to their path and load environment variables from `../src/.env`. Notice that these paths are based on the notebook's location. "
   ]
  },
  {
   "cell_type": "code",
   "execution_count": null,
   "metadata": {},
   "outputs": [],
   "source": [
    "%load_ext dotenv\n",
    "%dotenv ../src/.env"
   ]
  },
  {
   "cell_type": "code",
   "execution_count": null,
   "metadata": {},
   "outputs": [],
   "source": [
    "import sys\n",
    "sys.path.append(\"../src\")"
   ]
  },
  {
   "cell_type": "code",
   "execution_count": null,
   "metadata": {},
   "outputs": [],
   "source": [
    "from logger import get_logger\n",
    "_logs = get_logger(__name__)\n",
    "_logs.info(\"Hello world!\")"
   ]
  },
  {
   "cell_type": "markdown",
   "metadata": {},
   "source": [
    "# A Note about Copilot\n",
    "\n",
    "+ AI-assisted coding is a reality. I would like your opinions about the use of this technology.\n",
    "+ I will start the course with Copilot on, but if it becomes too distracting, I will be happy to turn it off. \n",
    "+ Copilot is a nice tool, but it is not for everyone. If you are starting to code or are trying to level up, I recommend that you leave AI assistants (Copilot, ChatGPT, etc.) for later."
   ]
  }
 ],
 "metadata": {
  "kernelspec": {
   "display_name": "env",
   "language": "python",
   "name": "python3"
  },
  "language_info": {
   "codemirror_mode": {
    "name": "ipython",
    "version": 3
   },
   "file_extension": ".py",
   "mimetype": "text/x-python",
   "name": "python",
   "nbconvert_exporter": "python",
   "pygments_lexer": "ipython3",
   "version": "3.11.0"
  }
 },
 "nbformat": 4,
 "nbformat_minor": 2
}
