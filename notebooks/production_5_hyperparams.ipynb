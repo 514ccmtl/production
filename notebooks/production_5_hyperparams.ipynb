{
 "cells": [
  {
   "cell_type": "code",
   "execution_count": null,
   "metadata": {},
   "outputs": [],
   "source": [
    "%load_ext dotenv\n",
    "%dotenv ../src/.env\n",
    "import sys\n",
    "sys.path.append(\"../src\")\n",
    "import dask\n",
    "dask.config.set({'dataframe.query-planning': True})\n",
    "import dask.dataframe as dd\n",
    "import pandas as pd\n",
    "import numpy as np\n",
    "import os\n",
    "from glob import glob\n",
    "ft_dir = os.getenv(\"FEATURES_DATA\")\n",
    "ft_glob = glob(ft_dir+'/*.parquet')\n",
    "df = dd.read_parquet(ft_glob).compute().reset_index().dropna()"
   ]
  },
  {
   "cell_type": "markdown",
   "metadata": {},
   "source": [
    "# What are we doing?\n",
    "\n",
    "## Objectives\n",
    "\n",
    "+ Construct a cross-validation pipeline.\n",
    "+ Use cross-validation to evaluate different hyperparameter performance.\n",
    "+ Perform grid search for systemic evaluation.\n",
    "+ Store and manage results."
   ]
  },
  {
   "cell_type": "markdown",
   "metadata": {},
   "source": [
    "## Procedure\n",
    "\n",
    "The diagram below, taken from Scikit Learn's documentation, shows the procedure that we will follow:\n",
    "\n",
    "![](./img/grid_search_workflow.png)\n",
    "\n",
    "\n",
    "+ System requriements:\n",
    "    \n",
    "    - Automation: the system should operate automatically with the least amount of supervision. \n",
    "    - Replicability: changes to code and (arguably) data should be logged and controled. Randomness should also be controlled (random seeds, etc.)\n",
    "    - Persistence: persist results for later analysis.\n"
   ]
  },
  {
   "cell_type": "markdown",
   "metadata": {},
   "source": [
    "## Searching the Hyperparameter Grid\n",
    "\n",
    "+ To address the automation requirement, we could use `GridSearchCV()`, which is a self-contained function for performing a Grid Search over a hyperparameter space.\n",
    "+ To get more granular control over our experiments and ensure reproducibility, we can explore the hyperparameter space using `ParameterGrid()` to obtain a list of hyperparameter configurations from a standard definition."
   ]
  },
  {
   "cell_type": "markdown",
   "metadata": {},
   "source": [
    "## What is a Hyperparameter?\n",
    "\n",
    "+ Generally speaking, hyperparameters are parameters that control the learning process: regularization weights, learning rate, entropy/gini metrics, etc. \n",
    "+ Hyperparameters can make or break a model. Good hyperparameter se "
   ]
  }
 ],
 "metadata": {
  "language_info": {
   "name": "python"
  }
 },
 "nbformat": 4,
 "nbformat_minor": 2
}
