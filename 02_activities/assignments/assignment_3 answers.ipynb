{
 "cells": [
  {
   "cell_type": "markdown",
   "metadata": {},
   "source": [
    "# Assignment 3"
   ]
  },
  {
   "cell_type": "markdown",
   "metadata": {},
   "source": [
    "Assignment 3 Nov 1 2200h"
   ]
  },
  {
   "cell_type": "markdown",
   "metadata": {},
   "source": [
    "In this assigment, we will work with the *Forest Fire* data set. Please download the data from the [UCI Machine Learning Repository](https://archive.ics.uci.edu/dataset/162/forest+fires). Extract the data files into the subdirectory: `../data/fires/` (relative to `./src/`).\n",
    "\n",
    "## Objective\n",
    "\n",
    "+ The model objective is to predict the area affected by forest fires given the features set. \n",
    "+ The objective of this exercise is to assess your ability to construct and evaluate model pipelines.\n",
    "+ Please note: the instructions are not meant to be 100% prescriptive, but instead they are a set of minimum requirements. If you find predictive performance gains by applying additional steps, by all means show them. "
   ]
  },
  {
   "cell_type": "markdown",
   "metadata": {},
   "source": [
    "## Variable Description\n",
    "\n",
    "From the description file contained in the archive (`forestfires.names`), we obtain the following variable descriptions:\n",
    "\n",
    "1. X - x-axis spatial coordinate within the Montesinho park map: 1 to 9\n",
    "2. Y - y-axis spatial coordinate within the Montesinho park map: 2 to 9\n",
    "3. month - month of the year: \"jan\" to \"dec\" \n",
    "4. day - day of the week: \"mon\" to \"sun\"\n",
    "5. FFMC - FFMC index from the FWI system: 18.7 to 96.20\n",
    "6. DMC - DMC index from the FWI system: 1.1 to 291.3 \n",
    "7. DC - DC index from the FWI system: 7.9 to 860.6 \n",
    "8. ISI - ISI index from the FWI system: 0.0 to 56.10\n",
    "9. temp - temperature in Celsius degrees: 2.2 to 33.30\n",
    "10. RH - relative humidity in %: 15.0 to 100\n",
    "11. wind - wind speed in km/h: 0.40 to 9.40 \n",
    "12. rain - outside rain in mm/m2 : 0.0 to 6.4 \n",
    "13. area - the burned area of the forest (in ha): 0.00 to 1090.84 \n",
    "\n",
    "\n",
    "\n"
   ]
  },
  {
   "cell_type": "markdown",
   "metadata": {},
   "source": [
    "\n",
    "\n",
    "\n",
    "\n",
    "### Specific Tasks\n",
    "\n",
    "+ Construct four model pipelines, out of combinations of the following components:\n",
    "\n",
    "    + Preprocessors:\n",
    "\n",
    "        - A simple processor that only scales numeric variables and recodes categorical variables.\n",
    "        - A transformation preprocessor that scales numeric variables and applies a non-linear transformation.\n",
    "    \n",
    "    + Regressor:\n",
    "\n",
    "        - A baseline regressor, which could be a [K-nearest neighbours model](https://open.spotify.com/track/4R3AU2pjv8ge2siX1fVbZs?si=b2712f32da0e4358) or a linear model like [Lasso](https://scikit-learn.org/stable/modules/generated/sklearn.linear_model.Lasso.html) or [Ridge Regressors](https://scikit-learn.org/stable/modules/generated/sklearn.linear_model.ridge_regression.html).\n",
    "        - An advanced regressor of your choice (e.g., Bagging, Boosting, SVR, etc.). TIP: select a tree-based method such that it does not take too long to run SHAP further below. \n",
    "\n",
    "+ Evaluate tune and evaluate each of the four model pipelines. \n",
    "\n",
    "    - Select a [performance metric](https://scikit-learn.org/stable/modules/linear_model.html) out of the following options: explained variance, max error, root mean squared error (RMSE), mean absolute error (MAE), r-squared.\n",
    "    - *TIPS*: \n",
    "    \n",
    "        * Out of the suggested metrics above, [some are correlation metrics, but this is a prediction problem](https://www.tmwr.org/performance#performance). Choose wisely (and don't choose the incorrect options.) \n",
    "\n",
    "+ Select the best-performing model and explain its predictions.\n",
    "\n",
    "    - Provide local explanations.\n",
    "    - Obtain global explanations and recommend a variable selection strategy.\n",
    "\n",
    "+ Export your model as a pickle file.\n",
    "\n",
    "\n",
    "You can work on the Jupyter notebook, as this experiment is fairly short (no need to use sacred). "
   ]
  },
  {
   "cell_type": "markdown",
   "metadata": {},
   "source": [
    "# Load the data\n",
    "\n",
    "Place the files in the ../../05_src/data/fires/ directory and load the appropriate file. "
   ]
  },
  {
   "cell_type": "code",
   "execution_count": 3,
   "metadata": {},
   "outputs": [],
   "source": [
    "# Load libraries\n",
    "import pandas as pd\n",
    "from sklearn.compose import ColumnTransformer\n",
    "from sklearn.preprocessing import StandardScaler, OneHotEncoder, FunctionTransformer\n",
    "from sklearn.pipeline import Pipeline\n",
    "from sklearn.model_selection import train_test_split, GridSearchCV\n",
    "from sklearn.linear_model import Lasso\n",
    "from sklearn.ensemble import RandomForestRegressor\n",
    "from sklearn.impute import SimpleImputer\n",
    "import numpy as np\n",
    "import shap\n"
   ]
  },
  {
   "cell_type": "code",
   "execution_count": 15,
   "metadata": {},
   "outputs": [
    {
     "name": "stdout",
     "output_type": "stream",
     "text": [
      "<class 'pandas.core.frame.DataFrame'>\n",
      "RangeIndex: 517 entries, 0 to 516\n",
      "Data columns (total 13 columns):\n",
      " #   Column   Non-Null Count  Dtype  \n",
      "---  ------   --------------  -----  \n",
      " 0   coord_x  517 non-null    int64  \n",
      " 1   coord_y  517 non-null    int64  \n",
      " 2   month    517 non-null    object \n",
      " 3   day      517 non-null    object \n",
      " 4   ffmc     517 non-null    float64\n",
      " 5   dmc      517 non-null    float64\n",
      " 6   dc       517 non-null    float64\n",
      " 7   isi      517 non-null    float64\n",
      " 8   temp     517 non-null    float64\n",
      " 9   rh       517 non-null    int64  \n",
      " 10  wind     517 non-null    float64\n",
      " 11  rain     517 non-null    float64\n",
      " 12  area     517 non-null    float64\n",
      "dtypes: float64(8), int64(3), object(2)\n",
      "memory usage: 52.6+ KB\n",
      "No missing values found in non-categorical features.\n",
      "Preprocessed Non-Categorical Features:\n",
      "    coord_x   coord_y      ffmc       dmc        dc       isi      temp  \\\n",
      "0  1.008313  0.569860 -0.805959 -1.323326 -1.830477 -0.860946 -1.842640   \n",
      "1  1.008313 -0.244001 -0.008102 -1.179541  0.488891 -0.509688 -0.153278   \n",
      "2  1.008313 -0.244001 -0.008102 -1.049822  0.560715 -0.509688 -0.739383   \n",
      "3  1.440925  1.383722  0.191362 -1.212361 -1.898266 -0.004756 -1.825402   \n",
      "4  1.440925  1.383722 -0.243833 -0.931043 -1.798600  0.126966 -1.291012   \n",
      "\n",
      "         rh      wind      rain  \n",
      "0  0.411724  1.498614 -0.073268  \n",
      "1 -0.692456 -1.741756 -0.073268  \n",
      "2 -0.692456 -1.518282 -0.073268  \n",
      "3  3.233519 -0.009834  0.603155  \n",
      "4  3.356206 -1.238940 -0.073268  \n"
     ]
    }
   ],
   "source": [
    "# Load data\n",
    "columns = [\n",
    "    'coord_x', 'coord_y', 'month', 'day', 'ffmc', 'dmc', 'dc', 'isi', 'temp', 'rh', 'wind', 'rain', 'area' \n",
    "]\n",
    "fires_dt = (pd.read_csv('../../05_src/data/fires/forestfires.csv', header = 0, names = columns))\n",
    "fires_dt.info()\n",
    "\n",
    "# Define non-categorical features (numerical features)\n",
    "non_categorical_features = [\n",
    "    'coord_x', 'coord_y', 'ffmc', 'dmc', 'dc', 'isi', 'temp', 'rh', 'wind', 'rain'\n",
    "]\n",
    "\n",
    "# Separate the non-categorical features\n",
    "X_non_categorical = fires_dt[non_categorical_features]\n",
    "\n",
    "# Check for missing values\n",
    "if X_non_categorical.isnull().sum().any():\n",
    "    print(\"Missing values found in non-categorical features. Handling missing values...\")\n",
    "    # Impute missing values for numeric columns\n",
    "    imputer = SimpleImputer(strategy='mean')  # You can choose other strategies like 'median' or 'most_frequent'\n",
    "    X_non_categorical = pd.DataFrame(imputer.fit_transform(X_non_categorical), columns=non_categorical_features)\n",
    "else:\n",
    "    print(\"No missing values found in non-categorical features.\")\n",
    "\n",
    "# Scale the features\n",
    "scaler = StandardScaler()\n",
    "X_non_categorical_scaled = pd.DataFrame(scaler.fit_transform(X_non_categorical), columns=non_categorical_features)\n",
    "\n",
    "# Display the preprocessed non-categorical features\n",
    "print(\"Preprocessed Non-Categorical Features:\")\n",
    "print(X_non_categorical_scaled.head())"
   ]
  },
  {
   "cell_type": "markdown",
   "metadata": {},
   "source": [
    "# Get X and Y\n",
    "\n",
    "Create the features data frame and target data."
   ]
  },
  {
   "cell_type": "code",
   "execution_count": 16,
   "metadata": {},
   "outputs": [
    {
     "name": "stdout",
     "output_type": "stream",
     "text": [
      "Features (X):\n",
      "   coord_x  coord_y month  day  ffmc   dmc     dc  isi  temp  rh  wind  rain\n",
      "0        7        5   mar  fri  86.2  26.2   94.3  5.1   8.2  51   6.7   0.0\n",
      "1        7        4   oct  tue  90.6  35.4  669.1  6.7  18.0  33   0.9   0.0\n",
      "2        7        4   oct  sat  90.6  43.7  686.9  6.7  14.6  33   1.3   0.0\n",
      "3        8        6   mar  fri  91.7  33.3   77.5  9.0   8.3  97   4.0   0.2\n",
      "4        8        6   mar  sun  89.3  51.3  102.2  9.6  11.4  99   1.8   0.0\n",
      "\n",
      "Target (y):\n",
      "0    0.0\n",
      "1    0.0\n",
      "2    0.0\n",
      "3    0.0\n",
      "4    0.0\n",
      "Name: area, dtype: float64\n"
     ]
    }
   ],
   "source": [
    "# Get X and Y\n",
    "X = fires_dt.drop(columns=['area'])  # Features: all columns except 'area'\n",
    "y = fires_dt['area']  # Target: 'area'\n",
    "\n",
    "# Print features of DataFrame(X)\n",
    "print(\"Features (X):\")\n",
    "print(X.head())  # Display the first few rows of X\n",
    "\n",
    "# Print target data (y)\n",
    "print(\"\\nTarget (y):\")\n",
    "print(y.head())  # Display the first few rows of y"
   ]
  },
  {
   "cell_type": "markdown",
   "metadata": {},
   "source": [
    "# Preprocessing\n",
    "\n",
    "Create two [Column Transformers](https://scikit-learn.org/stable/modules/generated/sklearn.compose.ColumnTransformer.html), called preproc1 and preproc2, with the following guidelines:\n",
    "\n",
    "- Numerical variables\n",
    "\n",
    "    * (Preproc 1 and 2) Scaling: use a scaling method of your choice (Standard, Robust, Min-Max). \n",
    "    * Preproc 2 only: \n",
    "        \n",
    "        + Choose a transformation for any of your input variables (or several of them). Evaluate if this transformation is convenient.\n",
    "        + The choice of scaler is up to you.\n",
    "\n",
    "- Categorical variables: \n",
    "    \n",
    "    * (Preproc 1 and 2) Apply [one-hot encoding](https://scikit-learn.org/stable/modules/generated/sklearn.preprocessing.OneHotEncoder.html) where appropriate.\n",
    "\n",
    "\n",
    "+ The only difference between preproc1 and preproc2 is the non-linear transformation of the numerical variables.\n",
    "    \n"
   ]
  },
  {
   "cell_type": "markdown",
   "metadata": {},
   "source": [
    "### Preproc 1\n",
    "\n",
    "Create preproc1 below.\n",
    "\n",
    "+ Numeric: scaled variables, no other transforms.\n",
    "+ Categorical: one-hot encoding."
   ]
  },
  {
   "cell_type": "code",
   "execution_count": 17,
   "metadata": {},
   "outputs": [
    {
     "name": "stdout",
     "output_type": "stream",
     "text": [
      "Preproc 1:\n",
      "ColumnTransformer(transformers=[('num', StandardScaler(),\n",
      "                                 ['coord_x', 'coord_y', 'ffmc', 'dmc', 'dc',\n",
      "                                  'isi', 'temp', 'rh', 'wind', 'rain']),\n",
      "                                ('cat', OneHotEncoder(), ['month', 'day'])])\n"
     ]
    }
   ],
   "source": [
    "# Preproc 1 Numeric variables scaled, categorical variables one-hot encoded\n",
    "preproc1 = ColumnTransformer(\n",
    "    transformers=[\n",
    "        ('num', StandardScaler(), ['coord_x', 'coord_y', 'ffmc', 'dmc', 'dc', 'isi', 'temp', 'rh', 'wind', 'rain']),\n",
    "        ('cat', OneHotEncoder(), ['month', 'day'])\n",
    "    ]\n",
    ")\n",
    "\n",
    "# Print Preproc 1\n",
    "print(\"Preproc 1:\")\n",
    "print(preproc1)"
   ]
  },
  {
   "cell_type": "markdown",
   "metadata": {},
   "source": [
    "### Preproc 2\n",
    "\n",
    "Create preproc1 below.\n",
    "\n",
    "+ Numeric: scaled variables, non-linear transformation to one or more variables.\n",
    "+ Categorical: one-hot encoding."
   ]
  },
  {
   "cell_type": "code",
   "execution_count": 18,
   "metadata": {},
   "outputs": [
    {
     "name": "stdout",
     "output_type": "stream",
     "text": [
      "\n",
      "Preproc 2:\n",
      "ColumnTransformer(transformers=[('num',\n",
      "                                 Pipeline(steps=[('scaler', StandardScaler()),\n",
      "                                                 ('nonlinear_transform',\n",
      "                                                  FunctionTransformer(func=<ufunc 'log1p'>,\n",
      "                                                                      validate=True))]),\n",
      "                                 ['coord_x', 'coord_y', 'ffmc', 'dmc', 'dc',\n",
      "                                  'isi', 'temp', 'rh', 'wind', 'rain']),\n",
      "                                ('cat', OneHotEncoder(), ['month', 'day'])])\n"
     ]
    }
   ],
   "source": [
    "# Preproc 2 Numeric variables scaled with a non-linear transformation, categorical variables one-hot encoded\n",
    "from sklearn.preprocessing import FunctionTransformer\n",
    "import numpy as np\n",
    "\n",
    "preproc2 = ColumnTransformer(\n",
    "    transformers=[\n",
    "        ('num', Pipeline(steps=[\n",
    "            ('scaler', StandardScaler()),\n",
    "            ('nonlinear_transform', FunctionTransformer(np.log1p, validate=True))   \n",
    "        ]), ['coord_x', 'coord_y', 'ffmc', 'dmc', 'dc', 'isi', 'temp', 'rh', 'wind', 'rain']),\n",
    "        ('cat', OneHotEncoder(), ['month', 'day'])\n",
    "    ]\n",
    ")\n",
    "\n",
    "# Print Preproc 2\n",
    "print(\"\\nPreproc 2:\")\n",
    "print(preproc2)"
   ]
  },
  {
   "cell_type": "markdown",
   "metadata": {},
   "source": [
    "## Model Pipeline\n",
    "\n",
    "\n",
    "Create a [model pipeline](https://scikit-learn.org/stable/modules/generated/sklearn.pipeline.Pipeline.html): \n",
    "\n",
    "+ Add a step labelled `preprocessing` and assign the Column Transformer from the previous section.\n",
    "+ Add a step labelled `regressor` and assign a regression model to it. \n",
    "\n",
    "## Regressor\n",
    "\n",
    "+ Use a regression model to perform a prediction. \n",
    "\n",
    "    - Choose a baseline regressor, tune it (if necessary) using grid search, and evaluate it using cross-validation.\n",
    "    - Choose a more advance regressor, tune it (if necessary) using grid search, and evaluate it using cross-validation.\n",
    "    - Both model choices are up to you, feel free to experiment."
   ]
  },
  {
   "cell_type": "code",
   "execution_count": 19,
   "metadata": {},
   "outputs": [
    {
     "name": "stdout",
     "output_type": "stream",
     "text": [
      "Pipeline A:\n",
      "Pipeline(steps=[('preprocessing',\n",
      "                 ColumnTransformer(transformers=[('num', StandardScaler(),\n",
      "                                                  ['coord_x', 'coord_y', 'ffmc',\n",
      "                                                   'dmc', 'dc', 'isi', 'temp',\n",
      "                                                   'rh', 'wind', 'rain']),\n",
      "                                                 ('cat', OneHotEncoder(),\n",
      "                                                  ['month', 'day'])])),\n",
      "                ('regressor', Lasso())])\n"
     ]
    }
   ],
   "source": [
    "# Pipeline A = preproc1 + baseline (Lasso)\n",
    "pipeline_a = Pipeline(steps=[\n",
    "    ('preprocessing', preproc1),\n",
    "    ('regressor', Lasso())\n",
    "])\n",
    "\n",
    "# Print Pipeline A\n",
    "print(\"Pipeline A:\")\n",
    "print(pipeline_a)"
   ]
  },
  {
   "cell_type": "code",
   "execution_count": 20,
   "metadata": {},
   "outputs": [
    {
     "name": "stdout",
     "output_type": "stream",
     "text": [
      "\n",
      "Pipeline B:\n",
      "Pipeline(steps=[('preprocessing',\n",
      "                 ColumnTransformer(transformers=[('num',\n",
      "                                                  Pipeline(steps=[('scaler',\n",
      "                                                                   StandardScaler()),\n",
      "                                                                  ('nonlinear_transform',\n",
      "                                                                   FunctionTransformer(func=<ufunc 'log1p'>,\n",
      "                                                                                       validate=True))]),\n",
      "                                                  ['coord_x', 'coord_y', 'ffmc',\n",
      "                                                   'dmc', 'dc', 'isi', 'temp',\n",
      "                                                   'rh', 'wind', 'rain']),\n",
      "                                                 ('cat', OneHotEncoder(),\n",
      "                                                  ['month', 'day'])])),\n",
      "                ('regressor', Lasso())])\n"
     ]
    }
   ],
   "source": [
    "# Pipeline B = preproc2 + baseline (Lasso)\n",
    "pipeline_b = Pipeline(steps=[\n",
    "    ('preprocessing', preproc2),\n",
    "    ('regressor', Lasso())\n",
    "])\n",
    "\n",
    "# Print Pipeline B\n",
    "print(\"\\nPipeline B:\")\n",
    "print(pipeline_b)"
   ]
  },
  {
   "cell_type": "code",
   "execution_count": 21,
   "metadata": {},
   "outputs": [
    {
     "name": "stdout",
     "output_type": "stream",
     "text": [
      "\n",
      "Pipeline C:\n",
      "Pipeline(steps=[('preprocessing',\n",
      "                 ColumnTransformer(transformers=[('num', StandardScaler(),\n",
      "                                                  ['coord_x', 'coord_y', 'ffmc',\n",
      "                                                   'dmc', 'dc', 'isi', 'temp',\n",
      "                                                   'rh', 'wind', 'rain']),\n",
      "                                                 ('cat', OneHotEncoder(),\n",
      "                                                  ['month', 'day'])])),\n",
      "                ('regressor', RandomForestRegressor())])\n"
     ]
    }
   ],
   "source": [
    "# Pipeline C = preproc1 + advanced model (RandomForestRegressor)\n",
    "pipeline_c = Pipeline(steps=[\n",
    "    ('preprocessing', preproc1),\n",
    "    ('regressor', RandomForestRegressor())\n",
    "])\n",
    "\n",
    "# Print Pipeline C\n",
    "print(\"\\nPipeline C:\")\n",
    "print(pipeline_c)"
   ]
  },
  {
   "cell_type": "code",
   "execution_count": 22,
   "metadata": {},
   "outputs": [
    {
     "name": "stdout",
     "output_type": "stream",
     "text": [
      "\n",
      "Pipeline D:\n",
      "Pipeline(steps=[('preprocessing',\n",
      "                 ColumnTransformer(transformers=[('num',\n",
      "                                                  Pipeline(steps=[('scaler',\n",
      "                                                                   StandardScaler()),\n",
      "                                                                  ('nonlinear_transform',\n",
      "                                                                   FunctionTransformer(func=<ufunc 'log1p'>,\n",
      "                                                                                       validate=True))]),\n",
      "                                                  ['coord_x', 'coord_y', 'ffmc',\n",
      "                                                   'dmc', 'dc', 'isi', 'temp',\n",
      "                                                   'rh', 'wind', 'rain']),\n",
      "                                                 ('cat', OneHotEncoder(),\n",
      "                                                  ['month', 'day'])])),\n",
      "                ('regressor', RandomForestRegressor())])\n"
     ]
    }
   ],
   "source": [
    "# Pipeline D = preproc2 + advanced model (RandomForestRegressor)\n",
    "pipeline_d = Pipeline(steps=[\n",
    "    ('preprocessing', preproc2),\n",
    "    ('regressor', RandomForestRegressor())\n",
    "])\n",
    "\n",
    "# Print Pipeline D\n",
    "print(\"\\nPipeline D:\")\n",
    "print(pipeline_d)"
   ]
  },
  {
   "cell_type": "code",
   "execution_count": 24,
   "metadata": {},
   "outputs": [
    {
     "name": "stdout",
     "output_type": "stream",
     "text": [
      "Missing values in each column:\n",
      "Series([], dtype: int64)\n"
     ]
    }
   ],
   "source": [
    "# Check for missing values in the dataset\n",
    "missing_values = fires_dt.isnull().sum()\n",
    "print(\"Missing values in each column:\")\n",
    "print(missing_values[missing_values > 0])"
   ]
  },
  {
   "cell_type": "markdown",
   "metadata": {},
   "source": [
    "# Tune Hyperparams\n",
    "\n",
    "+ Perform GridSearch on each of the four pipelines. \n",
    "+ Tune at least one hyperparameter per pipeline.\n",
    "+ Experiment with at least four value combinations per pipeline."
   ]
  },
  {
   "cell_type": "code",
   "execution_count": 25,
   "metadata": {},
   "outputs": [
    {
     "name": "stdout",
     "output_type": "stream",
     "text": [
      "No missing values found.\n",
      "Fitting 5 folds for each of 4 candidates, totalling 20 fits\n",
      "Best parameters for Pipeline A: {'regressor__alpha': 0.1}\n",
      "Best score for Pipeline A: nan\n",
      "Fitting 5 folds for each of 4 candidates, totalling 20 fits\n"
     ]
    },
    {
     "name": "stderr",
     "output_type": "stream",
     "text": [
      "One or more of the test scores are non-finite: [nan nan nan nan]\n"
     ]
    },
    {
     "name": "stdout",
     "output_type": "stream",
     "text": [
      "Error in GridSearch for Pipeline B: \n",
      "All the 20 fits failed.\n",
      "It is very likely that your model is misconfigured.\n",
      "You can try to debug the error by setting error_score='raise'.\n",
      "\n",
      "Below are more details about the failures:\n",
      "--------------------------------------------------------------------------------\n",
      "20 fits failed with the following error:\n",
      "Traceback (most recent call last):\n",
      "  File \"c:\\Users\\Q\\miniconda3\\envs\\dsi_participant\\lib\\site-packages\\sklearn\\model_selection\\_validation.py\", line 888, in _fit_and_score\n",
      "    estimator.fit(X_train, y_train, **fit_params)\n",
      "  File \"c:\\Users\\Q\\miniconda3\\envs\\dsi_participant\\lib\\site-packages\\sklearn\\base.py\", line 1473, in wrapper\n",
      "    return fit_method(estimator, *args, **kwargs)\n",
      "  File \"c:\\Users\\Q\\miniconda3\\envs\\dsi_participant\\lib\\site-packages\\sklearn\\pipeline.py\", line 473, in fit\n",
      "    self._final_estimator.fit(Xt, y, **last_step_params[\"fit\"])\n",
      "  File \"c:\\Users\\Q\\miniconda3\\envs\\dsi_participant\\lib\\site-packages\\sklearn\\base.py\", line 1473, in wrapper\n",
      "    return fit_method(estimator, *args, **kwargs)\n",
      "  File \"c:\\Users\\Q\\miniconda3\\envs\\dsi_participant\\lib\\site-packages\\sklearn\\linear_model\\_coordinate_descent.py\", line 980, in fit\n",
      "    X, y = self._validate_data(\n",
      "  File \"c:\\Users\\Q\\miniconda3\\envs\\dsi_participant\\lib\\site-packages\\sklearn\\base.py\", line 650, in _validate_data\n",
      "    X, y = check_X_y(X, y, **check_params)\n",
      "  File \"c:\\Users\\Q\\miniconda3\\envs\\dsi_participant\\lib\\site-packages\\sklearn\\utils\\validation.py\", line 1301, in check_X_y\n",
      "    X = check_array(\n",
      "  File \"c:\\Users\\Q\\miniconda3\\envs\\dsi_participant\\lib\\site-packages\\sklearn\\utils\\validation.py\", line 1064, in check_array\n",
      "    _assert_all_finite(\n",
      "  File \"c:\\Users\\Q\\miniconda3\\envs\\dsi_participant\\lib\\site-packages\\sklearn\\utils\\validation.py\", line 123, in _assert_all_finite\n",
      "    _assert_all_finite_element_wise(\n",
      "  File \"c:\\Users\\Q\\miniconda3\\envs\\dsi_participant\\lib\\site-packages\\sklearn\\utils\\validation.py\", line 172, in _assert_all_finite_element_wise\n",
      "    raise ValueError(msg_err)\n",
      "ValueError: Input X contains NaN.\n",
      "Lasso does not accept missing values encoded as NaN natively. For supervised learning, you might want to consider sklearn.ensemble.HistGradientBoostingClassifier and Regressor which accept missing values encoded as NaNs natively. Alternatively, it is possible to preprocess the data, for instance by using an imputer transformer in a pipeline or drop samples with missing values. See https://scikit-learn.org/stable/modules/impute.html You can find a list of all estimators that handle NaN values at the following page: https://scikit-learn.org/stable/modules/impute.html#estimators-that-handle-nan-values\n",
      "\n",
      "Fitting 5 folds for each of 4 candidates, totalling 20 fits\n"
     ]
    },
    {
     "name": "stderr",
     "output_type": "stream",
     "text": [
      "One or more of the test scores are non-finite: [nan nan nan nan]\n"
     ]
    },
    {
     "name": "stdout",
     "output_type": "stream",
     "text": [
      "\n",
      "Best parameters for Pipeline C: {'regressor__n_estimators': 50}\n",
      "Best score for Pipeline C: nan\n",
      "Fitting 5 folds for each of 4 candidates, totalling 20 fits\n",
      "\n",
      "Best parameters for Pipeline D: {'regressor__n_estimators': 50}\n",
      "Best score for Pipeline D: nan\n"
     ]
    },
    {
     "name": "stderr",
     "output_type": "stream",
     "text": [
      "One or more of the test scores are non-finite: [nan nan nan nan]\n",
      "invalid value encountered in log1p\n"
     ]
    }
   ],
   "source": [
    "# Check for missing values\n",
    "if X.isnull().sum().any() or y.isnull().sum() > 0:\n",
    "    print(\"Missing values found in the dataset. Handling missing values...\")\n",
    "    # Impute missing values for numeric columns\n",
    "    imputer = SimpleImputer(strategy='mean')\n",
    "    X = pd.DataFrame(imputer.fit_transform(X), columns=X.columns)\n",
    "else:\n",
    "    print(\"No missing values found.\")\n",
    "\n",
    "# Split the data into training and testing sets\n",
    "X_train, X_test, y_train, y_test = train_test_split(X, y, test_size=0.3, random_state=42)\n",
    "\n",
    "# Define preprocessors\n",
    "preproc1 = ColumnTransformer(\n",
    "    transformers=[\n",
    "        ('num', Pipeline(steps=[\n",
    "            ('imputer', SimpleImputer(strategy='mean')),  # Impute missing values\n",
    "            ('scaler', StandardScaler())\n",
    "        ]), ['coord_x', 'coord_y', 'ffmc', 'dmc', 'dc', 'isi', 'temp', 'rh', 'wind', 'rain']),\n",
    "        ('cat', OneHotEncoder(), ['month', 'day'])\n",
    "    ]\n",
    ")\n",
    "\n",
    "preproc2 = ColumnTransformer(\n",
    "    transformers=[\n",
    "        ('num', Pipeline(steps=[\n",
    "            ('imputer', SimpleImputer(strategy='mean')),  # Impute missing values\n",
    "            ('scaler', StandardScaler()),\n",
    "            ('nonlinear_transform', FunctionTransformer(np.log1p, validate=True))\n",
    "        ]), ['coord_x', 'coord_y', 'ffmc', 'dmc', 'dc', 'isi', 'temp', 'rh', 'wind', 'rain']),\n",
    "        ('cat', OneHotEncoder(), ['month', 'day'])\n",
    "    ]\n",
    ")\n",
    "\n",
    "# Define pipelines\n",
    "pipeline_a = Pipeline(steps=[('preprocessing', preproc1), ('regressor', Lasso())])\n",
    "pipeline_b = Pipeline(steps=[('preprocessing', preproc2), ('regressor', Lasso())])\n",
    "pipeline_c = Pipeline(steps=[('preprocessing', preproc1), ('regressor', RandomForestRegressor())])\n",
    "pipeline_d = Pipeline(steps=[('preprocessing', preproc2), ('regressor', RandomForestRegressor())])\n",
    "\n",
    "# Define parameter grids for each pipeline\n",
    "param_grid_a = {'regressor__alpha': [0.1, 1.0, 10.0, 100.0]}  # For Lasso in Pipeline A\n",
    "param_grid_b = {'regressor__alpha': [0.1, 1.0, 10.0, 100.0]}  # For Lasso in Pipeline B\n",
    "param_grid_c = {'regressor__n_estimators': [50, 100, 150, 200]}  # For RandomForestRegressor in Pipeline C\n",
    "param_grid_d = {'regressor__n_estimators': [50, 100, 150, 200]}  # For RandomForestRegressor in Pipeline D\n",
    "\n",
    "# Perform GridSearch on each of the four pipelines\n",
    "try:\n",
    "    grid_a = GridSearchCV(pipeline_a, param_grid_a, cv=5, n_jobs=-1, verbose=1)\n",
    "    grid_a.fit(X_train, y_train)\n",
    "    print(\"Best parameters for Pipeline A:\", grid_a.best_params_)\n",
    "    print(\"Best score for Pipeline A:\", grid_a.best_score_)\n",
    "except Exception as e:\n",
    "    print(\"Error in GridSearch for Pipeline A:\", e)\n",
    "\n",
    "try:\n",
    "    grid_b = GridSearchCV(pipeline_b, param_grid_b, cv=5, n_jobs=-1, verbose=1)\n",
    "    grid_b.fit(X_train, y_train)\n",
    "    print(\"\\nBest parameters for Pipeline B:\", grid_b.best_params_)\n",
    "    print(\"Best score for Pipeline B:\", grid_b.best_score_)\n",
    "except Exception as e:\n",
    "    print(\"Error in GridSearch for Pipeline B:\", e)\n",
    "\n",
    "try:\n",
    "    grid_c = GridSearchCV(pipeline_c, param_grid_c, cv=5, n_jobs=-1, verbose=1)\n",
    "    grid_c.fit(X_train, y_train)\n",
    "    print(\"\\nBest parameters for Pipeline C:\", grid_c.best_params_)\n",
    "    print(\"Best score for Pipeline C:\", grid_c.best_score_)\n",
    "except Exception as e:\n",
    "    print(\"Error in GridSearch for Pipeline C:\", e)\n",
    "\n",
    "try:\n",
    "    grid_d = GridSearchCV(pipeline_d, param_grid_d, cv=5, n_jobs=-1, verbose=1)\n",
    "    grid_d.fit(X_train, y_train)\n",
    "    print(\"\\nBest parameters for Pipeline D:\", grid_d.best_params_)\n",
    "    print(\"Best score for Pipeline D:\", grid_d.best_score_)\n",
    "except Exception as e:\n",
    "    print(\"Error in GridSearch for Pipeline D:\", e)"
   ]
  },
  {
   "cell_type": "markdown",
   "metadata": {},
   "source": [
    "# Evaluate\n",
    "\n",
    "+ Which model has the best performance?"
   ]
  },
  {
   "cell_type": "markdown",
   "metadata": {},
   "source": [
    "Unfortunately, due to the problems with my code in my previous sections, I am unable to determine which model has the best performance. "
   ]
  },
  {
   "cell_type": "markdown",
   "metadata": {},
   "source": [
    "# Export\n",
    "\n",
    "+ Save the best performing model to a pickle file."
   ]
  },
  {
   "cell_type": "code",
   "execution_count": null,
   "metadata": {},
   "outputs": [],
   "source": []
  },
  {
   "cell_type": "code",
   "execution_count": null,
   "metadata": {},
   "outputs": [],
   "source": []
  },
  {
   "cell_type": "markdown",
   "metadata": {},
   "source": [
    "# Explain\n",
    "\n",
    "+ Use SHAP values to explain the following only for the best-performing model:\n",
    "\n",
    "    - Select an observation in your test set and explain which are the most important features that explain that observation's specific prediction.\n",
    "\n",
    "    - In general, across the complete training set, which features are the most and least important.\n",
    "\n",
    "+ If you were to remove features from the model, which ones would you remove? Why? How would you test that these features are actually enhancing model performance?"
   ]
  },
  {
   "cell_type": "code",
   "execution_count": null,
   "metadata": {},
   "outputs": [],
   "source": []
  },
  {
   "cell_type": "code",
   "execution_count": null,
   "metadata": {},
   "outputs": [],
   "source": []
  },
  {
   "cell_type": "markdown",
   "metadata": {},
   "source": [
    "*(Answer here.)*"
   ]
  },
  {
   "cell_type": "markdown",
   "metadata": {},
   "source": [
    "## Criteria\n",
    "\n",
    "The [rubric](./assignment_3_rubric_clean.xlsx) contains the criteria for assessment."
   ]
  },
  {
   "cell_type": "markdown",
   "metadata": {},
   "source": [
    "## Submission Information\n",
    "\n",
    "🚨 **Please review our [Assignment Submission Guide](https://github.com/UofT-DSI/onboarding/blob/main/onboarding_documents/submissions.md)** 🚨 for detailed instructions on how to format, branch, and submit your work. Following these guidelines is crucial for your submissions to be evaluated correctly.\n",
    "\n",
    "### Submission Parameters:\n",
    "* Submission Due Date: `HH:MM AM/PM - DD/MM/YYYY`\n",
    "* The branch name for your repo should be: `assignment-3`\n",
    "* What to submit for this assignment:\n",
    "    * This Jupyter Notebook (assignment_3.ipynb) should be populated and should be the only change in your pull request.\n",
    "* What the pull request link should look like for this assignment: `https://github.com/<your_github_username>/production/pull/<pr_id>`\n",
    "    * Open a private window in your browser. Copy and paste the link to your pull request into the address bar. Make sure you can see your pull request properly. This helps the technical facilitator and learning support staff review your submission easily.\n",
    "\n",
    "Checklist:\n",
    "- [ ] Created a branch with the correct naming convention.\n",
    "- [ ] Ensured that the repository is public.\n",
    "- [ ] Reviewed the PR description guidelines and adhered to them.\n",
    "- [ ] Verify that the link is accessible in a private browser window.\n",
    "\n",
    "If you encounter any difficulties or have questions, please don't hesitate to reach out to our team via our Slack at `#cohort-3-help`. Our Technical Facilitators and Learning Support staff are here to help you navigate any challenges."
   ]
  },
  {
   "cell_type": "markdown",
   "metadata": {},
   "source": [
    "# Reference\n",
    "\n",
    "Cortez,Paulo and Morais,Anbal. (2008). Forest Fires. UCI Machine Learning Repository. https://doi.org/10.24432/C5D88D."
   ]
  }
 ],
 "metadata": {
  "kernelspec": {
   "display_name": "env",
   "language": "python",
   "name": "python3"
  },
  "language_info": {
   "codemirror_mode": {
    "name": "ipython",
    "version": 3
   },
   "file_extension": ".py",
   "mimetype": "text/x-python",
   "name": "python",
   "nbconvert_exporter": "python",
   "pygments_lexer": "ipython3",
   "version": "3.9.15"
  }
 },
 "nbformat": 4,
 "nbformat_minor": 2
}
